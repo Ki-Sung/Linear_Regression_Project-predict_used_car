{
 "cells": [
  {
   "cell_type": "code",
   "execution_count": 80,
   "metadata": {},
   "outputs": [],
   "source": [
    "pd.set_option('display.max_rows', None)\n",
    "\n",
    "car_t = pd.read_csv('./train-data.csv')\n",
    "car_te = pd.read_csv('./test-data.csv')"
   ]
  },
  {
   "cell_type": "code",
   "execution_count": 119,
   "metadata": {},
   "outputs": [],
   "source": [
    "def get_split(column, new):\n",
    "\n",
    "    ls1 = car_t[column]\n",
    "    ls2 = []\n",
    "    for i in range(0,len(car_t)):\n",
    "        ls2.append(ls1[i].split(' ')[0])\n",
    "        \n",
    "    car_t[new] = ls2\n",
    "    print(new)\n",
    "    \n",
    "def get_split2(column, new):\n",
    "\n",
    "    ls1 = car_t[column]\n",
    "    ls2 = []\n",
    "    for i in range(0,len(car_t)):\n",
    "        ls2.append(ls1.str.split(' ', n=1)[i][1])\n",
    "        \n",
    "    car_t[new] = ls2\n",
    "    print(new)"
   ]
  },
  {
   "cell_type": "code",
   "execution_count": 82,
   "metadata": {},
   "outputs": [],
   "source": [
    "dummy_col = ['Brand', 'Fuel_Type', 'Transmission']"
   ]
  },
  {
   "cell_type": "code",
   "execution_count": 83,
   "metadata": {},
   "outputs": [],
   "source": [
    "# for i in dummy_col:\n",
    "#     dummy = pd.get_dummies(car_t[i])\n",
    "#     pd.concat([car_t, dummy], axis=1)\n",
    "#     print(i)"
   ]
  },
  {
   "cell_type": "code",
   "execution_count": 84,
   "metadata": {},
   "outputs": [
    {
     "name": "stdout",
     "output_type": "stream",
     "text": [
      "Brand\n"
     ]
    }
   ],
   "source": [
    "get_split('Name', 'Brand')"
   ]
  },
  {
   "cell_type": "code",
   "execution_count": 85,
   "metadata": {
    "scrolled": true
   },
   "outputs": [
    {
     "name": "stdout",
     "output_type": "stream",
     "text": [
      "Car_name\n"
     ]
    }
   ],
   "source": [
    "get_split2('Name', 'Car_name')"
   ]
  },
  {
   "cell_type": "code",
   "execution_count": 86,
   "metadata": {},
   "outputs": [
    {
     "name": "stdout",
     "output_type": "stream",
     "text": [
      "Brand\n",
      "Fuel_Type\n",
      "Transmission\n"
     ]
    }
   ],
   "source": [
    "for i in dummy_col:\n",
    "    dummy = pd.get_dummies(car_t[i])\n",
    "    car_t = pd.concat([car_t, dummy], axis=1)\n",
    "    print(i)"
   ]
  },
  {
   "cell_type": "code",
   "execution_count": 87,
   "metadata": {},
   "outputs": [],
   "source": [
    "car_t['Owner'] = range(0,len(car_t))"
   ]
  },
  {
   "cell_type": "code",
   "execution_count": 88,
   "metadata": {},
   "outputs": [
    {
     "name": "stderr",
     "output_type": "stream",
     "text": [
      "/Users/kim-yeongjin/opt/anaconda3/envs/pyt/lib/python3.7/site-packages/ipykernel_launcher.py:3: SettingWithCopyWarning: \n",
      "A value is trying to be set on a copy of a slice from a DataFrame\n",
      "\n",
      "See the caveats in the documentation: https://pandas.pydata.org/pandas-docs/stable/user_guide/indexing.html#returning-a-view-versus-a-copy\n",
      "  This is separate from the ipykernel package so we can avoid doing imports until\n",
      "/Users/kim-yeongjin/opt/anaconda3/envs/pyt/lib/python3.7/site-packages/ipykernel_launcher.py:6: SettingWithCopyWarning: \n",
      "A value is trying to be set on a copy of a slice from a DataFrame\n",
      "\n",
      "See the caveats in the documentation: https://pandas.pydata.org/pandas-docs/stable/user_guide/indexing.html#returning-a-view-versus-a-copy\n",
      "  \n",
      "/Users/kim-yeongjin/opt/anaconda3/envs/pyt/lib/python3.7/site-packages/ipykernel_launcher.py:12: SettingWithCopyWarning: \n",
      "A value is trying to be set on a copy of a slice from a DataFrame\n",
      "\n",
      "See the caveats in the documentation: https://pandas.pydata.org/pandas-docs/stable/user_guide/indexing.html#returning-a-view-versus-a-copy\n",
      "  if sys.path[0] == '':\n",
      "/Users/kim-yeongjin/opt/anaconda3/envs/pyt/lib/python3.7/site-packages/ipykernel_launcher.py:9: SettingWithCopyWarning: \n",
      "A value is trying to be set on a copy of a slice from a DataFrame\n",
      "\n",
      "See the caveats in the documentation: https://pandas.pydata.org/pandas-docs/stable/user_guide/indexing.html#returning-a-view-versus-a-copy\n",
      "  if __name__ == '__main__':\n"
     ]
    }
   ],
   "source": [
    "for i in range(0,len(car_t)):\n",
    "    if car_t['Owner_Type'][i] == 'First':\n",
    "        car_t['Owner'][i] = 1\n",
    "\n",
    "    elif car_t['Owner_Type'][i] == 'Second':\n",
    "        car_t['Owner'][i] = 2\n",
    "\n",
    "    elif car_t['Owner_Type'][i] == 'Third':\n",
    "        car_t['Owner'][i] = 3\n",
    "\n",
    "    elif car_t['Owner_Type'][i] == 'Fourth & Above':\n",
    "        car_t['Owner'][i] = 4"
   ]
  },
  {
   "cell_type": "code",
   "execution_count": 95,
   "metadata": {},
   "outputs": [
    {
     "data": {
      "text/plain": [
       "'19.67'"
      ]
     },
     "execution_count": 95,
     "metadata": {},
     "output_type": "execute_result"
    }
   ],
   "source": [
    "car_t['Mileage'][1].split(' ')[0]"
   ]
  },
  {
   "cell_type": "code",
   "execution_count": 101,
   "metadata": {},
   "outputs": [
    {
     "data": {
      "text/html": [
       "<div>\n",
       "<style scoped>\n",
       "    .dataframe tbody tr th:only-of-type {\n",
       "        vertical-align: middle;\n",
       "    }\n",
       "\n",
       "    .dataframe tbody tr th {\n",
       "        vertical-align: top;\n",
       "    }\n",
       "\n",
       "    .dataframe thead th {\n",
       "        text-align: right;\n",
       "    }\n",
       "</style>\n",
       "<table border=\"1\" class=\"dataframe\">\n",
       "  <thead>\n",
       "    <tr style=\"text-align: right;\">\n",
       "      <th></th>\n",
       "      <th>Unnamed: 0</th>\n",
       "      <th>Name</th>\n",
       "      <th>Location</th>\n",
       "      <th>Year</th>\n",
       "      <th>Kilometers_Driven</th>\n",
       "      <th>Fuel_Type</th>\n",
       "      <th>Transmission</th>\n",
       "      <th>Owner_Type</th>\n",
       "      <th>Mileage</th>\n",
       "      <th>Engine</th>\n",
       "      <th>...</th>\n",
       "      <th>Volkswagen</th>\n",
       "      <th>Volvo</th>\n",
       "      <th>CNG</th>\n",
       "      <th>Diesel</th>\n",
       "      <th>Electric</th>\n",
       "      <th>LPG</th>\n",
       "      <th>Petrol</th>\n",
       "      <th>Automatic</th>\n",
       "      <th>Manual</th>\n",
       "      <th>Owner</th>\n",
       "    </tr>\n",
       "  </thead>\n",
       "  <tbody>\n",
       "    <tr>\n",
       "      <th>4446</th>\n",
       "      <td>4446</td>\n",
       "      <td>Mahindra E Verito D4</td>\n",
       "      <td>Chennai</td>\n",
       "      <td>2016</td>\n",
       "      <td>50000</td>\n",
       "      <td>Electric</td>\n",
       "      <td>Automatic</td>\n",
       "      <td>First</td>\n",
       "      <td>NaN</td>\n",
       "      <td>72 CC</td>\n",
       "      <td>...</td>\n",
       "      <td>0</td>\n",
       "      <td>0</td>\n",
       "      <td>0</td>\n",
       "      <td>0</td>\n",
       "      <td>1</td>\n",
       "      <td>0</td>\n",
       "      <td>0</td>\n",
       "      <td>1</td>\n",
       "      <td>0</td>\n",
       "      <td>1</td>\n",
       "    </tr>\n",
       "    <tr>\n",
       "      <th>4904</th>\n",
       "      <td>4904</td>\n",
       "      <td>Toyota Prius 2009-2016 Z4</td>\n",
       "      <td>Mumbai</td>\n",
       "      <td>2011</td>\n",
       "      <td>44000</td>\n",
       "      <td>Electric</td>\n",
       "      <td>Automatic</td>\n",
       "      <td>First</td>\n",
       "      <td>NaN</td>\n",
       "      <td>1798 CC</td>\n",
       "      <td>...</td>\n",
       "      <td>0</td>\n",
       "      <td>0</td>\n",
       "      <td>0</td>\n",
       "      <td>0</td>\n",
       "      <td>1</td>\n",
       "      <td>0</td>\n",
       "      <td>0</td>\n",
       "      <td>1</td>\n",
       "      <td>0</td>\n",
       "      <td>1</td>\n",
       "    </tr>\n",
       "  </tbody>\n",
       "</table>\n",
       "<p>2 rows × 55 columns</p>\n",
       "</div>"
      ],
      "text/plain": [
       "      Unnamed: 0                       Name Location  Year  Kilometers_Driven  \\\n",
       "4446        4446       Mahindra E Verito D4  Chennai  2016              50000   \n",
       "4904        4904  Toyota Prius 2009-2016 Z4   Mumbai  2011              44000   \n",
       "\n",
       "     Fuel_Type Transmission Owner_Type Mileage   Engine  ... Volkswagen  \\\n",
       "4446  Electric    Automatic      First     NaN    72 CC  ...          0   \n",
       "4904  Electric    Automatic      First     NaN  1798 CC  ...          0   \n",
       "\n",
       "      Volvo CNG  Diesel Electric LPG  Petrol  Automatic  Manual  Owner  \n",
       "4446      0   0       0        1   0       0          1       0      1  \n",
       "4904      0   0       0        1   0       0          1       0      1  \n",
       "\n",
       "[2 rows x 55 columns]"
      ]
     },
     "execution_count": 101,
     "metadata": {},
     "output_type": "execute_result"
    }
   ],
   "source": [
    "car_t[car_t['Mileage'].isnull()]"
   ]
  },
  {
   "cell_type": "code",
   "execution_count": 104,
   "metadata": {},
   "outputs": [
    {
     "data": {
      "text/plain": [
       "0    26.6 km/kg\n",
       "1    19.67 kmpl\n",
       "2     18.2 kmpl\n",
       "3    20.77 kmpl\n",
       "4     15.2 kmpl\n",
       "Name: Mileage, dtype: object"
      ]
     },
     "execution_count": 104,
     "metadata": {},
     "output_type": "execute_result"
    }
   ],
   "source": [
    "car_t['Mileage'].head()"
   ]
  },
  {
   "cell_type": "code",
   "execution_count": 108,
   "metadata": {
    "scrolled": false
   },
   "outputs": [
    {
     "data": {
      "text/html": [
       "<div>\n",
       "<style scoped>\n",
       "    .dataframe tbody tr th:only-of-type {\n",
       "        vertical-align: middle;\n",
       "    }\n",
       "\n",
       "    .dataframe tbody tr th {\n",
       "        vertical-align: top;\n",
       "    }\n",
       "\n",
       "    .dataframe thead th {\n",
       "        text-align: right;\n",
       "    }\n",
       "</style>\n",
       "<table border=\"1\" class=\"dataframe\">\n",
       "  <thead>\n",
       "    <tr style=\"text-align: right;\">\n",
       "      <th></th>\n",
       "      <th>Unnamed: 0</th>\n",
       "      <th>Name</th>\n",
       "      <th>Location</th>\n",
       "      <th>Year</th>\n",
       "      <th>Kilometers_Driven</th>\n",
       "      <th>Fuel_Type</th>\n",
       "      <th>Transmission</th>\n",
       "      <th>Owner_Type</th>\n",
       "      <th>Mileage</th>\n",
       "      <th>Engine</th>\n",
       "      <th>...</th>\n",
       "      <th>Volkswagen</th>\n",
       "      <th>Volvo</th>\n",
       "      <th>CNG</th>\n",
       "      <th>Diesel</th>\n",
       "      <th>Electric</th>\n",
       "      <th>LPG</th>\n",
       "      <th>Petrol</th>\n",
       "      <th>Automatic</th>\n",
       "      <th>Manual</th>\n",
       "      <th>Owner</th>\n",
       "    </tr>\n",
       "  </thead>\n",
       "  <tbody>\n",
       "    <tr>\n",
       "      <th>4446</th>\n",
       "      <td>4446</td>\n",
       "      <td>Mahindra E Verito D4</td>\n",
       "      <td>Chennai</td>\n",
       "      <td>2016</td>\n",
       "      <td>50000</td>\n",
       "      <td>Electric</td>\n",
       "      <td>Automatic</td>\n",
       "      <td>First</td>\n",
       "      <td>NaN</td>\n",
       "      <td>72 CC</td>\n",
       "      <td>...</td>\n",
       "      <td>0</td>\n",
       "      <td>0</td>\n",
       "      <td>0</td>\n",
       "      <td>0</td>\n",
       "      <td>1</td>\n",
       "      <td>0</td>\n",
       "      <td>0</td>\n",
       "      <td>1</td>\n",
       "      <td>0</td>\n",
       "      <td>1</td>\n",
       "    </tr>\n",
       "    <tr>\n",
       "      <th>4904</th>\n",
       "      <td>4904</td>\n",
       "      <td>Toyota Prius 2009-2016 Z4</td>\n",
       "      <td>Mumbai</td>\n",
       "      <td>2011</td>\n",
       "      <td>44000</td>\n",
       "      <td>Electric</td>\n",
       "      <td>Automatic</td>\n",
       "      <td>First</td>\n",
       "      <td>NaN</td>\n",
       "      <td>1798 CC</td>\n",
       "      <td>...</td>\n",
       "      <td>0</td>\n",
       "      <td>0</td>\n",
       "      <td>0</td>\n",
       "      <td>0</td>\n",
       "      <td>1</td>\n",
       "      <td>0</td>\n",
       "      <td>0</td>\n",
       "      <td>1</td>\n",
       "      <td>0</td>\n",
       "      <td>1</td>\n",
       "    </tr>\n",
       "  </tbody>\n",
       "</table>\n",
       "<p>2 rows × 55 columns</p>\n",
       "</div>"
      ],
      "text/plain": [
       "      Unnamed: 0                       Name Location  Year  Kilometers_Driven  \\\n",
       "4446        4446       Mahindra E Verito D4  Chennai  2016              50000   \n",
       "4904        4904  Toyota Prius 2009-2016 Z4   Mumbai  2011              44000   \n",
       "\n",
       "     Fuel_Type Transmission Owner_Type Mileage   Engine  ... Volkswagen  \\\n",
       "4446  Electric    Automatic      First     NaN    72 CC  ...          0   \n",
       "4904  Electric    Automatic      First     NaN  1798 CC  ...          0   \n",
       "\n",
       "      Volvo CNG  Diesel Electric LPG  Petrol  Automatic  Manual  Owner  \n",
       "4446      0   0       0        1   0       0          1       0      1  \n",
       "4904      0   0       0        1   0       0          1       0      1  \n",
       "\n",
       "[2 rows x 55 columns]"
      ]
     },
     "execution_count": 108,
     "metadata": {},
     "output_type": "execute_result"
    }
   ],
   "source": [
    "car_t[car_t['Fuel_Type'] == 'Electric']"
   ]
  },
  {
   "cell_type": "code",
   "execution_count": 110,
   "metadata": {},
   "outputs": [],
   "source": [
    "car_td = car_t.drop([4446, 4904])"
   ]
  },
  {
   "cell_type": "code",
   "execution_count": 114,
   "metadata": {},
   "outputs": [],
   "source": [
    "car_td.reset_index(drop=True, inplace = True)"
   ]
  },
  {
   "cell_type": "code",
   "execution_count": 121,
   "metadata": {},
   "outputs": [
    {
     "name": "stdout",
     "output_type": "stream",
     "text": [
      "<class 'pandas.core.frame.DataFrame'>\n",
      "RangeIndex: 6017 entries, 0 to 6016\n",
      "Data columns (total 56 columns):\n",
      " #   Column             Non-Null Count  Dtype  \n",
      "---  ------             --------------  -----  \n",
      " 0   Unnamed: 0         6017 non-null   int64  \n",
      " 1   Name               6017 non-null   object \n",
      " 2   Location           6017 non-null   object \n",
      " 3   Year               6017 non-null   int64  \n",
      " 4   Kilometers_Driven  6017 non-null   int64  \n",
      " 5   Fuel_Type          6017 non-null   object \n",
      " 6   Transmission       6017 non-null   object \n",
      " 7   Owner_Type         6017 non-null   object \n",
      " 8   Mileage            6017 non-null   object \n",
      " 9   Engine             5981 non-null   object \n",
      " 10  Power              5981 non-null   object \n",
      " 11  Seats              5975 non-null   float64\n",
      " 12  New_Price          823 non-null    object \n",
      " 13  Price              6017 non-null   float64\n",
      " 14  Brand              6017 non-null   object \n",
      " 15  Car_name           6017 non-null   object \n",
      " 16  Ambassador         6017 non-null   uint8  \n",
      " 17  Audi               6017 non-null   uint8  \n",
      " 18  BMW                6017 non-null   uint8  \n",
      " 19  Bentley            6017 non-null   uint8  \n",
      " 20  Chevrolet          6017 non-null   uint8  \n",
      " 21  Datsun             6017 non-null   uint8  \n",
      " 22  Fiat               6017 non-null   uint8  \n",
      " 23  Force              6017 non-null   uint8  \n",
      " 24  Ford               6017 non-null   uint8  \n",
      " 25  Honda              6017 non-null   uint8  \n",
      " 26  Hyundai            6017 non-null   uint8  \n",
      " 27  ISUZU              6017 non-null   uint8  \n",
      " 28  Isuzu              6017 non-null   uint8  \n",
      " 29  Jaguar             6017 non-null   uint8  \n",
      " 30  Jeep               6017 non-null   uint8  \n",
      " 31  Lamborghini        6017 non-null   uint8  \n",
      " 32  Land               6017 non-null   uint8  \n",
      " 33  Mahindra           6017 non-null   uint8  \n",
      " 34  Maruti             6017 non-null   uint8  \n",
      " 35  Mercedes-Benz      6017 non-null   uint8  \n",
      " 36  Mini               6017 non-null   uint8  \n",
      " 37  Mitsubishi         6017 non-null   uint8  \n",
      " 38  Nissan             6017 non-null   uint8  \n",
      " 39  Porsche            6017 non-null   uint8  \n",
      " 40  Renault            6017 non-null   uint8  \n",
      " 41  Skoda              6017 non-null   uint8  \n",
      " 42  Smart              6017 non-null   uint8  \n",
      " 43  Tata               6017 non-null   uint8  \n",
      " 44  Toyota             6017 non-null   uint8  \n",
      " 45  Volkswagen         6017 non-null   uint8  \n",
      " 46  Volvo              6017 non-null   uint8  \n",
      " 47  CNG                6017 non-null   uint8  \n",
      " 48  Diesel             6017 non-null   uint8  \n",
      " 49  Electric           6017 non-null   uint8  \n",
      " 50  LPG                6017 non-null   uint8  \n",
      " 51  Petrol             6017 non-null   uint8  \n",
      " 52  Automatic          6017 non-null   uint8  \n",
      " 53  Manual             6017 non-null   uint8  \n",
      " 54  Owner              6017 non-null   int64  \n",
      " 55  Mile               6017 non-null   object \n",
      "dtypes: float64(2), int64(4), object(12), uint8(38)\n",
      "memory usage: 1.0+ MB\n"
     ]
    }
   ],
   "source": [
    "car_td.info()"
   ]
  },
  {
   "cell_type": "code",
   "execution_count": null,
   "metadata": {},
   "outputs": [],
   "source": []
  }
 ],
 "metadata": {
  "kernelspec": {
   "display_name": "Python 3",
   "language": "python",
   "name": "python3"
  },
  "language_info": {
   "codemirror_mode": {
    "name": "ipython",
    "version": 3
   },
   "file_extension": ".py",
   "mimetype": "text/x-python",
   "name": "python",
   "nbconvert_exporter": "python",
   "pygments_lexer": "ipython3",
   "version": "3.8.5"
  }
 },
 "nbformat": 4,
 "nbformat_minor": 5
}
